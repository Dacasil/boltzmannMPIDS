{
 "cells": [
  {
   "cell_type": "code",
   "execution_count": 101,
   "metadata": {},
   "outputs": [
    {
     "name": "stdout",
     "output_type": "stream",
     "text": [
      "The autoreload extension is already loaded. To reload it, use:\n",
      "  %reload_ext autoreload\n"
     ]
    }
   ],
   "source": [
    "import torch\n",
    "import torch.nn as nn\n",
    "import torch.optim as optim\n",
    "import numpy as np\n",
    "import matplotlib.pyplot as plt\n",
    "import sys\n",
    "import os\n",
    "sys.path.append(os.path.abspath(os.path.join(os.path.abspath(''), \"..\")))\n",
    "from example_package import model, training, datasets, metrics\n",
    "from tqdm import tqdm\n",
    "from scipy.stats import bootstrap\n",
    "import pickle\n",
    "%load_ext autoreload\n",
    "%autoreload 2"
   ]
  },
  {
   "cell_type": "code",
   "execution_count": 104,
   "metadata": {},
   "outputs": [],
   "source": [
    "def get_postfix(exp_name,cvar_name,cvar_value):\n",
    "    return f'{exp_name}/{cvar_name}_{cvar_value}'"
   ]
  },
  {
   "cell_type": "code",
   "execution_count": 105,
   "metadata": {},
   "outputs": [],
   "source": [
    "n_visible = 4\n",
    "#n_hidden = 2\n",
    "dataset = datasets.BasicEncoderDataset(n_visible).data[:]"
   ]
  },
  {
   "cell_type": "code",
   "execution_count": 106,
   "metadata": {},
   "outputs": [],
   "source": [
    "#model paramss\n",
    "epochs = 100\n",
    "bias = True\n",
    "learning_rate = 2\n",
    "noise_levels = [0.05,0.15] # [p_flip_to_zero,p_flip_to_one]\n",
    "annealing_scheme = torch.Tensor([20,20,15,15,12,12,10,10,10,10])\n",
    "steps_statistics = 10\n",
    "train_params = {\n",
    "    'double_clamped':False, #bad, do not use\n",
    "    'discretize_gradients':True\n",
    "}"
   ]
  },
  {
   "cell_type": "code",
   "execution_count": 110,
   "metadata": {},
   "outputs": [],
   "source": [
    "exp_name = 'test'\n",
    "cvar_name = 'n_hidden'"
   ]
  },
  {
   "cell_type": "code",
   "execution_count": 115,
   "metadata": {},
   "outputs": [
    {
     "name": "stderr",
     "output_type": "stream",
     "text": [
      "100%|██████████| 2/2 [00:13<00:00,  6.71s/it]\n",
      "100%|██████████| 2/2 [00:15<00:00,  7.83s/it]\n",
      "2it [00:29, 14.55s/it]\n"
     ]
    }
   ],
   "source": [
    "#control variable \n",
    "control_all = [2,3]\n",
    "#statistics\n",
    "n_repetitions = 2\n",
    "data = np.zeros((len(control_all),n_repetitions))\n",
    "for i,control in tqdm(enumerate(control_all)):\n",
    "    file_name = f'../data/{get_postfix(exp_name,cvar_name,control)}.pkl'\n",
    "    for j in tqdm(range(n_repetitions)):\n",
    "        n_hidden = control\n",
    "        # Make an object from the model and train it\n",
    "        model_B = model.BoltzmannMachine(2*n_visible, n_hidden, None, bias)\n",
    "        training.TrainBatch(model_B,dataset, epochs, learning_rate,noise_levels,steps_statistics,annealing_scheme,\n",
    "                            train_params,tqdm=False)\n",
    "        vector_s1, vectors_2 = metrics.get_encoding_vectors(model_B)\n",
    "        hamming_data = metrics.hamming_distance(np.sign(vector_s1).T)\n",
    "        data_point = hamming_data[2]\n",
    "        data[i,j] = data_point\n",
    "    pickle.dump(data[i], open(file_name,'wb+'))\n",
    "file_name = f'../data/{exp_name}/{cvar_name}_xvals.pkl'\n",
    "pickle.dump(control_all, open(file_name,'wb+'))"
   ]
  },
  {
   "cell_type": "code",
   "execution_count": 86,
   "metadata": {},
   "outputs": [],
   "source": [
    "# # data_o = data\n",
    "# # x_o = epochs_all\n",
    "# data_spliced = np.concatenate((data_o,data))\n",
    "# x_spliced = np.concatenate((x_o,epochs_all))"
   ]
  },
  {
   "cell_type": "code",
   "execution_count": 87,
   "metadata": {},
   "outputs": [],
   "source": [
    "def mean_statistic(data, axis=1):\n",
    "    return np.mean(data, axis=axis)"
   ]
  },
  {
   "cell_type": "code",
   "execution_count": 88,
   "metadata": {},
   "outputs": [
    {
     "name": "stdout",
     "output_type": "stream",
     "text": [
      "(4, 2)\n"
     ]
    },
    {
     "name": "stderr",
     "output_type": "stream",
     "text": [
      "c:\\Coding\\miniconda\\envs\\boltz\\Lib\\site-packages\\scipy\\stats\\_resampling.py:147: RuntimeWarning: invalid value encountered in divide\n",
      "  a_hat = 1/6 * sum(nums) / sum(dens)**(3/2)\n",
      "c:\\Coding\\miniconda\\envs\\boltz\\Lib\\site-packages\\scipy\\_lib\\_util.py:440: DegenerateDataWarning: The BCa confidence interval cannot be calculated. This problem is known to occur when the distribution is degenerate or the statistic is np.min.\n",
      "  return fun(*args, **kwargs)\n"
     ]
    }
   ],
   "source": [
    "print(data.shape)\n",
    "means_bs = bootstrap((data,), mean_statistic,axis=1)#, n_resamples=1000, vectorized=True, axis=0)\n",
    "ci_lower,ci_upper = means_bs.confidence_interval"
   ]
  },
  {
   "cell_type": "code",
   "execution_count": 93,
   "metadata": {},
   "outputs": [],
   "source": [
    "y_lims = (0,np.max(data))"
   ]
  },
  {
   "cell_type": "code",
   "execution_count": 116,
   "metadata": {},
   "outputs": [
    {
     "name": "stderr",
     "output_type": "stream",
     "text": [
      "C:\\Users\\Mark\\AppData\\Local\\Temp\\ipykernel_27080\\1642904603.py:8: UserWarning: No artists with labels found to put in legend.  Note that artists whose label start with an underscore are ignored when legend() is called with no argument.\n",
      "  fig.legend()\n"
     ]
    },
    {
     "data": {
      "image/png": "[encoded data removed]",
      "text/plain": [
       "<Figure size 480x360 with 1 Axes>"
      ]
     },
     "metadata": {},
     "output_type": "display_data"
    }
   ],
   "source": [
    "fig, ax = plt.subplots(figsize=(4,3),dpi=120)\n",
    "ax.plot(control_all,np.mean(data,1))\n",
    "#ax.fill_between(hidden_all, ci_lower, ci_upper, color='blue', alpha=0.2, label='Confidence Interval')\n",
    "ax.set_xlabel('number of hidden units')\n",
    "ax.set_ylabel('min(d) between encodings')\n",
    "ax.set_yticks(np.linspace(*y_lims,3))\n",
    "ax.set_xticks([2,3,4,5])\n",
    "fig.legend()\n",
    "#ax.set_xscale('log')\n",
    "ax.set_title('Encoding Distance Increases with Hidden Units')\n",
    "fig.tight_layout()\n",
    "fig.savefig('encoding_distance.png')\n",
    "plt.show()"
   ]
  }
 ],
 "metadata": {
  "kernelspec": {
   "display_name": "boltz",
   "language": "python",
   "name": "python3"
  },
  "language_info": {
   "codemirror_mode": {
    "name": "ipython",
    "version": 3
   },
   "file_extension": ".py",
   "mimetype": "text/x-python",
   "name": "python",
   "nbconvert_exporter": "python",
   "pygments_lexer": "ipython3",
   "version": "3.13.2"
  }
 },
 "nbformat": 4,
 "nbformat_minor": 2
}
