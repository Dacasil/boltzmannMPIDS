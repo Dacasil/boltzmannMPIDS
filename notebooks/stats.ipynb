{
 "cells": [
  {
   "cell_type": "code",
   "execution_count": 1,
   "metadata": {},
   "outputs": [],
   "source": [
    "import torch\n",
    "import torch.nn as nn\n",
    "import torch.optim as optim\n",
    "import numpy as np\n",
    "import matplotlib.pyplot as plt\n",
    "import sys\n",
    "import os\n",
    "sys.path.append(os.path.abspath(os.path.join(os.path.abspath(''), \"..\")))\n",
    "from example_package import model, training, datasets, metrics\n",
    "from tqdm import tqdm\n",
    "from scipy.stats import bootstrap\n",
    "%load_ext autoreload\n",
    "%autoreload 2"
   ]
  },
  {
   "cell_type": "code",
   "execution_count": 2,
   "metadata": {},
   "outputs": [],
   "source": [
    "def VisualizeReconstruction(original, reconstructed):\n",
    "    plt.figure(figsize=(10, 4))\n",
    "    \n",
    "    plt.subplot(1, 2, 1)\n",
    "    plt.imshow(original.reshape(2, 4), cmap='gray', vmin=-1, vmax=1)\n",
    "    plt.title(\"Original Data\")\n",
    "    plt.axis('off')\n",
    "\n",
    "    plt.subplot(1, 2, 2)\n",
    "    plt.imshow(reconstructed.reshape(2, 4), cmap='gray', vmin=-1, vmax=1)\n",
    "    plt.title(\"Reconstructed Data\")\n",
    "    plt.axis('off')\n",
    "\n",
    "    plt.show()"
   ]
  },
  {
   "cell_type": "code",
   "execution_count": 3,
   "metadata": {},
   "outputs": [],
   "source": [
    "n_visible = 4\n",
    "n_hidden = 2\n",
    "dataset = datasets.BasicEncoderDataset(n_visible).data[:]"
   ]
  },
  {
   "cell_type": "code",
   "execution_count": 4,
   "metadata": {},
   "outputs": [],
   "source": [
    "#model paramss\n",
    "bias = True\n",
    "learning_rate = 2\n",
    "noise_levels = [0.05,0.15] # [p_flip_to_zero,p_flip_to_one]\n",
    "annealing_scheme = torch.Tensor([20,20,15,15,12,12,10,10,10,10])\n",
    "steps_statistics = 10\n",
    "train_params = {\n",
    "    'double_clamped':False, #bad, do not use\n",
    "    'discretize_gradients':True\n",
    "}"
   ]
  },
  {
   "cell_type": "code",
   "execution_count": null,
   "metadata": {},
   "outputs": [
    {
     "name": "stderr",
     "output_type": "stream",
     "text": [
      "0it [00:00, ?it/s]"
     ]
    }
   ],
   "source": [
    "#control variable \n",
    "epochs_all = [500]\n",
    "#statistics\n",
    "n_repetitions = 10\n",
    "data = np.zeros((len(epochs_all),n_repetitions))\n",
    "for i,control in tqdm(enumerate(epochs_all)):\n",
    "    for j in tqdm(range(n_repetitions)):\n",
    "        epochs = control\n",
    "        # Make an object from the model and train it\n",
    "        model_B = model.BoltzmannMachine(2*n_visible, n_hidden, None, bias)\n",
    "        training.TrainBatch(model_B,dataset, epochs, learning_rate,noise_levels,steps_statistics,annealing_scheme,\n",
    "                            train_params,tqdm=False)\n",
    "        vector_s1, vectors_2 = metrics.get_encoding_vectors(model_B)\n",
    "        hamming_data = metrics.hamming_distance(np.sign(vector_s1).T)\n",
    "        data_point = hamming_data[2]\n",
    "        data[i,j] = data_point\n"
   ]
  },
  {
   "cell_type": "code",
   "execution_count": null,
   "metadata": {},
   "outputs": [],
   "source": [
    "# data_o = data\n",
    "# x_o = epochs_all\n",
    "data_spliced = np.concat(data_o,data)\n",
    "x_spliced = np.concat(x_o,data)"
   ]
  },
  {
   "cell_type": "code",
   "execution_count": null,
   "metadata": {},
   "outputs": [],
   "source": [
    "def mean_statistic(data, axis=1):\n",
    "    return np.mean(data, axis=axis)"
   ]
  },
  {
   "cell_type": "code",
   "execution_count": 58,
   "metadata": {},
   "outputs": [
    {
     "name": "stdout",
     "output_type": "stream",
     "text": [
      "(4, 10)\n"
     ]
    }
   ],
   "source": [
    "print(data.shape)\n",
    "means_bs = bootstrap((data,), mean_statistic,axis=1)#, n_resamples=1000, vectorized=True, axis=0)\n",
    "ci_lower,ci_upper = means_bs.confidence_interval"
   ]
  },
  {
   "cell_type": "code",
   "execution_count": 59,
   "metadata": {},
   "outputs": [],
   "source": [
    "y_lims = (0,1)\n"
   ]
  },
  {
   "cell_type": "code",
   "execution_count": 60,
   "metadata": {},
   "outputs": [
    {
     "data": {
      "image/png": "[encoded data removed]",
      "text/plain": [
       "<Figure size 480x360 with 1 Axes>"
      ]
     },
     "metadata": {},
     "output_type": "display_data"
    }
   ],
   "source": [
    "fig, ax = plt.subplots(figsize=(4,3),dpi=120)\n",
    "ax.plot(epochs_all,np.mean(data,1))\n",
    "ax.fill_between(epochs_all, ci_lower, ci_upper, color='blue', alpha=0.2, label='Confidence Interval')\n",
    "ax.set_ylabel('min(d) between encodings')\n",
    "ax.set_yticks(np.linspace(*y_lims,3))\n",
    "fig.legend()\n",
    "plt.show()"
   ]
  },
  {
   "cell_type": "code",
   "execution_count": null,
   "metadata": {},
   "outputs": [],
   "source": []
  }
 ],
 "metadata": {
  "kernelspec": {
   "display_name": "boltz",
   "language": "python",
   "name": "python3"
  },
  "language_info": {
   "codemirror_mode": {
    "name": "ipython",
    "version": 3
   },
   "file_extension": ".py",
   "mimetype": "text/x-python",
   "name": "python",
   "nbconvert_exporter": "python",
   "pygments_lexer": "ipython3",
   "version": "3.13.2"
  }
 },
 "nbformat": 4,
 "nbformat_minor": 2
}
