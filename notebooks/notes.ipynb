{
 "cells": [
  {
   "cell_type": "markdown",
   "metadata": {},
   "source": [
    "TODO:\n",
    "- Leonardo: fix Git\n",
    "- Mark: fix conda"
   ]
  },
  {
   "cell_type": "markdown",
   "metadata": {},
   "source": [
    "# STEPS\n",
    "- dataset\n",
    "    - noise\n",
    "- init_model\n",
    "    - kill some weights\n",
    "- training \n",
    "    - clamping\n",
    "    - update_to_equilibrium\n",
    "        - update_once\n",
    "    - hebbian\n",
    "    - two training modes\n",
    "    - annealing\n",
    "- testing\n",
    "- visualization\n",
    "    - stable states with hidden units\n",
    "    - weights"
   ]
  },
  {
   "cell_type": "markdown",
   "metadata": {},
   "source": [
    "## Things to reproduce"
   ]
  },
  {
   "cell_type": "markdown",
   "metadata": {},
   "source": [
    "- KL Divergence over time"
   ]
  },
  {
   "cell_type": "markdown",
   "metadata": {},
   "source": [
    "# WEIRD THINGS IN HINTON 1985:"
   ]
  },
  {
   "cell_type": "markdown",
   "metadata": {},
   "source": [
    "- biases \n",
    "- annealing\n",
    "- noise in patterns \n",
    "- mixed clamping\n",
    "- fixed weight updates\n",
    "- bias instead of self-connection"
   ]
  },
  {
   "cell_type": "markdown",
   "metadata": {},
   "source": [
    "- interpolate vs extrapolate"
   ]
  }
 ],
 "metadata": {
  "kernelspec": {
   "display_name": "fries",
   "language": "python",
   "name": "python3"
  },
  "language_info": {
   "codemirror_mode": {
    "name": "ipython",
    "version": 3
   },
   "file_extension": ".py",
   "mimetype": "text/x-python",
   "name": "python",
   "nbconvert_exporter": "python",
   "pygments_lexer": "ipython3",
   "version": "3.12.0"
  }
 },
 "nbformat": 4,
 "nbformat_minor": 2
}
