{
 "cells": [
  {
   "cell_type": "code",
   "execution_count": 27,
   "metadata": {},
   "outputs": [
    {
     "name": "stdout",
     "output_type": "stream",
     "text": [
      "The autoreload extension is already loaded. To reload it, use:\n",
      "  %reload_ext autoreload\n"
     ]
    }
   ],
   "source": [
    "import torch\n",
    "import torch.nn as nn\n",
    "import torch.optim as optim\n",
    "import numpy as np\n",
    "import matplotlib.pyplot as plt\n",
    "import sys\n",
    "import os\n",
    "sys.path.append(os.path.abspath(os.path.join(os.path.abspath(''), \"..\")))\n",
    "from example_package import model, training, datasets, metrics\n",
    "from tqdm import tqdm\n",
    "from scipy.stats import bootstrap\n",
    "import pickle\n",
    "%load_ext autoreload\n",
    "%autoreload 2"
   ]
  },
  {
   "cell_type": "code",
   "execution_count": 28,
   "metadata": {},
   "outputs": [],
   "source": [
    "exp_name = 'test'\n",
    "cvar_name = 'n_hidden'\n",
    "cvalues = [2,3]"
   ]
  },
  {
   "cell_type": "code",
   "execution_count": 38,
   "metadata": {},
   "outputs": [],
   "source": [
    "def get_postfix(exp_name,cvar_name,cvar_value):\n",
    "    return f'{exp_name}/{cvar_name}_{cvar_value}'\n",
    "\n",
    "def load_file(exp_name,cvar,value):\n",
    "    file_name = f'../data/{get_postfix(exp_name,cvar,value)}.pkl'\n",
    "    results = pickle.load(open(file_name, 'rb+'))\n",
    "    return results\n",
    "\n",
    "def load_xvals(exp_name,cvar):\n",
    "    file_name = f'../data/{exp_name}/{cvar}_xvals.pkl'\n",
    "    results = pickle.load(open(file_name, 'rb+'))\n",
    "    return results\n",
    "\n",
    "def load_experiment(exp_name,cvar,values):\n",
    "    data = []\n",
    "    for val in values:\n",
    "         y = load_file(exp_name,cvar,val)\n",
    "         data.append(y)\n",
    "    output = np.concatenate((data,))\n",
    "    return output"
   ]
  },
  {
   "cell_type": "code",
   "execution_count": 39,
   "metadata": {},
   "outputs": [],
   "source": [
    "x_vals =load_xvals(exp_name,cvar_name)"
   ]
  },
  {
   "cell_type": "code",
   "execution_count": 40,
   "metadata": {},
   "outputs": [
    {
     "data": {
      "text/plain": [
       "[2, 3]"
      ]
     },
     "execution_count": 40,
     "metadata": {},
     "output_type": "execute_result"
    }
   ],
   "source": [
    "x_vals"
   ]
  },
  {
   "cell_type": "code",
   "execution_count": 41,
   "metadata": {},
   "outputs": [],
   "source": [
    "y = load_experiment(exp_name,cvar_name,cvalues)"
   ]
  },
  {
   "cell_type": "code",
   "execution_count": 48,
   "metadata": {},
   "outputs": [
    {
     "data": {
      "text/plain": [
       "array([[1., 0.],\n",
       "       [1., 0.]])"
      ]
     },
     "execution_count": 48,
     "metadata": {},
     "output_type": "execute_result"
    }
   ],
   "source": [
    "y"
   ]
  },
  {
   "cell_type": "code",
   "execution_count": 42,
   "metadata": {},
   "outputs": [],
   "source": [
    "def mean_statistic(data, axis=1):\n",
    "    return np.mean(data, axis=axis)"
   ]
  },
  {
   "cell_type": "code",
   "execution_count": 49,
   "metadata": {},
   "outputs": [
    {
     "name": "stdout",
     "output_type": "stream",
     "text": [
      "(2, 2)\n"
     ]
    },
    {
     "data": {
      "text/plain": [
       "array([0., 0.])"
      ]
     },
     "execution_count": 49,
     "metadata": {},
     "output_type": "execute_result"
    }
   ],
   "source": [
    "print(y.shape)\n",
    "means_bs = bootstrap((y,), mean_statistic,axis=1)#, n_resamples=1000, vectorized=True, axis=0)\n",
    "ci_lower,ci_upper = means_bs.confidence_interval\n",
    "ci_lower"
   ]
  },
  {
   "cell_type": "code",
   "execution_count": 50,
   "metadata": {},
   "outputs": [],
   "source": [
    "y_lims = (0,np.max(y))"
   ]
  },
  {
   "cell_type": "code",
   "execution_count": 53,
   "metadata": {},
   "outputs": [
    {
     "data": {
      "image/png": "[encoded data removed]",
      "text/plain": [
       "<Figure size 480x360 with 1 Axes>"
      ]
     },
     "metadata": {},
     "output_type": "display_data"
    }
   ],
   "source": [
    "fig, ax = plt.subplots(figsize=(4,3),dpi=120)\n",
    "ax.plot(x_vals,np.mean(y,1))\n",
    "ax.fill_between(x_vals, ci_lower, ci_upper, color='blue', alpha=0.2, label='Confidence Interval')\n",
    "ax.set_xlabel('number of hidden units')\n",
    "ax.set_ylabel('min(d) between encodings')\n",
    "ax.set_yticks(np.linspace(*y_lims,3))\n",
    "ax.set_xticks([2,3,4,5])\n",
    "fig.legend()\n",
    "#ax.set_xscale('log')\n",
    "ax.set_title('Encoding Distance Increases with Hidden Units')\n",
    "fig.tight_layout()\n",
    "fig.savefig('encoding_distance.png')\n",
    "plt.show()"
   ]
  },
  {
   "cell_type": "code",
   "execution_count": null,
   "metadata": {},
   "outputs": [],
   "source": []
  }
 ],
 "metadata": {
  "kernelspec": {
   "display_name": "boltz",
   "language": "python",
   "name": "python3"
  },
  "language_info": {
   "codemirror_mode": {
    "name": "ipython",
    "version": 3
   },
   "file_extension": ".py",
   "mimetype": "text/x-python",
   "name": "python",
   "nbconvert_exporter": "python",
   "pygments_lexer": "ipython3",
   "version": "3.13.2"
  }
 },
 "nbformat": 4,
 "nbformat_minor": 2
}
