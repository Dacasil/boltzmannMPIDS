{
 "cells": [
  {
   "cell_type": "code",
   "execution_count": 1,
   "id": "initial_id",
   "metadata": {},
   "outputs": [
    {
     "ename": "ModuleNotFoundError",
     "evalue": "No module named 'matplotlib'",
     "output_type": "error",
     "traceback": [
      "\u001b[31m---------------------------------------------------------------------------\u001b[39m",
      "\u001b[31mModuleNotFoundError\u001b[39m                       Traceback (most recent call last)",
      "\u001b[36mCell\u001b[39m\u001b[36m \u001b[39m\u001b[32mIn[1]\u001b[39m\u001b[32m, line 4\u001b[39m\n\u001b[32m      2\u001b[39m \u001b[38;5;28;01mfrom\u001b[39;00m\u001b[38;5;250m \u001b[39m\u001b[34;01mtorch\u001b[39;00m\u001b[34;01m.\u001b[39;00m\u001b[34;01mutils\u001b[39;00m\u001b[34;01m.\u001b[39;00m\u001b[34;01mdata\u001b[39;00m\u001b[38;5;250m \u001b[39m\u001b[38;5;28;01mimport\u001b[39;00m Dataset\n\u001b[32m      3\u001b[39m \u001b[38;5;28;01mimport\u001b[39;00m\u001b[38;5;250m \u001b[39m\u001b[34;01mnumpy\u001b[39;00m\u001b[38;5;250m \u001b[39m\u001b[38;5;28;01mas\u001b[39;00m\u001b[38;5;250m \u001b[39m\u001b[34;01mnp\u001b[39;00m\n\u001b[32m----> \u001b[39m\u001b[32m4\u001b[39m \u001b[38;5;28;01mfrom\u001b[39;00m\u001b[38;5;250m \u001b[39m\u001b[34;01mmatplotlib\u001b[39;00m\u001b[38;5;250m \u001b[39m\u001b[38;5;28;01mimport\u001b[39;00m pyplot \u001b[38;5;28;01mas\u001b[39;00m plt\n",
      "\u001b[31mModuleNotFoundError\u001b[39m: No module named 'matplotlib'"
     ]
    }
   ],
   "source": [
    "import torch\n",
    "from torch.utils.data import Dataset\n",
    "import numpy as np\n",
    "from matplotlib import pyplot as plt"
   ]
  },
  {
   "cell_type": "code",
   "execution_count": 2,
   "id": "05d57d8f-98f8-40fa-80fe-858576cf4d10",
   "metadata": {},
   "outputs": [],
   "source": [
    "class CustomDataset(Dataset):\n",
    "    def __init__(self, samples):\n",
    "        self.samples = samples\n",
    "\n",
    "    def __len__(self):\n",
    "        return len(self.samples)\n",
    "\n",
    "    def __getitem__(self, idx):\n",
    "        return self.samples[idx]"
   ]
  },
  {
   "cell_type": "code",
   "execution_count": 3,
   "id": "1e96d152",
   "metadata": {},
   "outputs": [],
   "source": [
    "class HopfieldDataset(CustomDataset):\n",
    "    def __init__(self, num_samples,num_neurons=100,device='cpu'):\n",
    "        thetas=0.5*torch.ones((num_samples,num_neurons))\n",
    "        self.data = 2*torch.bernoulli(thetas)-1\n",
    "        self.data = self.data.to(device)\n",
    "        super().__init__(self.data)"
   ]
  },
  {
   "cell_type": "code",
   "execution_count": 4,
   "id": "0170faad",
   "metadata": {},
   "outputs": [],
   "source": [
    "class EncoderDataset(CustomDataset):\n",
    "    def __init__(self,n_visible_a,n_visible_b,device='cpu'):\n",
    "        v_a_data = torch.eye(n_visible_a)\n",
    "        ordered = torch.eye(n_visible_b)\n",
    "        v_b_data = ordered[torch.randperm(n_visible_b)]\n",
    "        self.data = torch.cat((v_a_data,v_b_data),1)\n",
    "        self.data = self.data.to(device)\n",
    "        super().__init__(self.data)"
   ]
  },
  {
   "cell_type": "code",
   "execution_count": 5,
   "id": "276a4445",
   "metadata": {},
   "outputs": [],
   "source": [
    "def split_visible(t)->torch.Tensor:\n",
    "    return torch.split(t,2)"
   ]
  },
  {
   "cell_type": "code",
   "execution_count": 6,
   "id": "3e6685ba",
   "metadata": {},
   "outputs": [],
   "source": [
    "y = EncoderDataset(4,4)\n",
    "data_a, data_b = split_visible(y.data[:])"
   ]
  },
  {
   "cell_type": "code",
   "execution_count": 7,
   "id": "75f6e4f7",
   "metadata": {},
   "outputs": [
    {
     "ename": "",
     "evalue": "",
     "output_type": "error",
     "traceback": [
      "\u001b[1;31mThe Kernel crashed while executing code in the current cell or a previous cell. \n",
      "\u001b[1;31mPlease review the code in the cell(s) to identify a possible cause of the failure. \n",
      "\u001b[1;31mClick <a href='https://aka.ms/vscodeJupyterKernelCrash'>here</a> for more info. \n",
      "\u001b[1;31mView Jupyter <a href='command:jupyter.viewOutput'>log</a> for further details."
     ]
    }
   ],
   "source": [
    "fig,ax = plt.subplots(2)"
   ]
  },
  {
   "cell_type": "code",
   "execution_count": null,
   "id": "3ad05f4f",
   "metadata": {},
   "outputs": [],
   "source": []
  }
 ],
 "metadata": {
  "kernelspec": {
   "display_name": "boltz",
   "language": "python",
   "name": "python3"
  },
  "language_info": {
   "codemirror_mode": {
    "name": "ipython",
    "version": 3
   },
   "file_extension": ".py",
   "mimetype": "text/x-python",
   "name": "python",
   "nbconvert_exporter": "python",
   "pygments_lexer": "ipython3",
   "version": "3.13.2"
  }
 },
 "nbformat": 4,
 "nbformat_minor": 5
}
