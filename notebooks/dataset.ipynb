{
 "cells": [
  {
   "cell_type": "code",
   "execution_count": 1,
   "id": "initial_id",
   "metadata": {},
   "outputs": [],
   "source": [
    "import torch\n",
    "from torch.utils.data import Dataset\n",
    "import numpy as np\n",
    "from matplotlib import pyplot as plt"
   ]
  },
  {
   "cell_type": "code",
   "execution_count": 2,
   "id": "05d57d8f-98f8-40fa-80fe-858576cf4d10",
   "metadata": {},
   "outputs": [],
   "source": [
    "class CustomDataset(Dataset):\n",
    "    def __init__(self, samples):\n",
    "        self.samples = samples\n",
    "\n",
    "    def __len__(self):\n",
    "        return len(self.samples)\n",
    "\n",
    "    def __getitem__(self, idx):\n",
    "        return self.samples[idx]"
   ]
  },
  {
   "cell_type": "code",
   "execution_count": 3,
   "id": "1e96d152",
   "metadata": {},
   "outputs": [],
   "source": [
    "class HopfieldDataset(CustomDataset):\n",
    "    def __init__(self, num_samples,num_neurons=100,device='cpu'):\n",
    "        thetas=0.5*torch.ones((num_samples,num_neurons))\n",
    "        self.data = 2*torch.bernoulli(thetas)-1\n",
    "        self.data = self.data.to(device)\n",
    "        super().__init__(self.data)"
   ]
  },
  {
   "cell_type": "code",
   "execution_count": 4,
   "id": "0170faad",
   "metadata": {},
   "outputs": [],
   "source": [
    "class EncoderDataset(CustomDataset):\n",
    "    def __init__(self,n_visible_a,n_visible_b,device='cpu'):\n",
    "        v_a_data = torch.eye(n_visible_a)\n",
    "        ordered = torch.eye(n_visible_b)\n",
    "        v_b_data = ordered[torch.randperm(n_visible_b)]\n",
    "        self.data = torch.cat((v_a_data,v_b_data),1)\n",
    "        self.data = self.data.to(device)\n",
    "        super().__init__(self.data)"
   ]
  },
  {
   "cell_type": "code",
   "execution_count": 64,
   "id": "5322a4ef",
   "metadata": {},
   "outputs": [],
   "source": [
    "class BasicEncoderDataset(CustomDataset):\n",
    "    def __init__(self,n_visible,reps,device='cpu'):\n",
    "        \"\"\"\n",
    "        reps: control parameter for correlation\n",
    "        \"\"\"\n",
    "        #create correlated data\n",
    "        correlated_patterns = torch.zeros(n_visible,2*n_visible)\n",
    "        for i in range(n_visible):\n",
    "            correlated_patterns[i,i] = 1\n",
    "            correlated_patterns[i,n_visible+i] = 1\n",
    "        patterns = correlated_patterns\n",
    "        #binary to bipolar\n",
    "        patterns = 2*patterns-1\n",
    "        #finish\n",
    "        self.data = patterns\n",
    "        super().__init__(self.data)"
   ]
  },
  {
   "cell_type": "code",
   "execution_count": null,
   "id": "beab5804",
   "metadata": {},
   "outputs": [],
   "source": [
    "class CorrelatedEncoderDataset(CustomDataset):\n",
    "    def __init__(self,n_visible,reps,device='cpu'):\n",
    "        \"\"\"\n",
    "        reps: control parameter for correlation\n",
    "        \"\"\"\n",
    "        #generate all possible combinations of patterns\n",
    "        loc_a = torch.arange(n_visible)\n",
    "        indices = torch.combinations(loc_a)\n",
    "        #create a pattern for each\n",
    "        patterns = torch.zeros((len(indices),2*n_visible))\n",
    "        for i,pair in enumerate(indices):\n",
    "            x,y = pair\n",
    "            patterns[i,x] = 1\n",
    "            patterns[i,n_visible+y] = 1\n",
    "        #create correlated data\n",
    "        correlated_patterns = torch.zeros(n_visible,2*n_visible)\n",
    "        for i in range(n_visible):\n",
    "            correlated_patterns[i,i] = 1\n",
    "            correlated_patterns[i,n_visible+i] = 1\n",
    "        #concat correlated_patterns\n",
    "        correlated_patterns = correlated_patterns.repeat(reps,1)\n",
    "        patterns = torch.concat((patterns,correlated_patterns))\n",
    "        #binary to bipolar\n",
    "        patterns = 2*patterns-1\n",
    "        #finish\n",
    "        self.data = patterns\n",
    "        super().__init__(self.data)"
   ]
  },
  {
   "cell_type": "code",
   "execution_count": 67,
   "id": "9c7b871d",
   "metadata": {},
   "outputs": [],
   "source": [
    "y = CorrelatedEncoderDataset(4,2)\n",
    "data = y.data[:]\n",
    "n_patterns = data.shape[0]\n",
    "data = data.reshape((n_patterns,2,-1))"
   ]
  },
  {
   "cell_type": "code",
   "execution_count": 68,
   "id": "6df0bbce",
   "metadata": {},
   "outputs": [
    {
     "data": {
      "text/plain": [
       "<matplotlib.colorbar.Colorbar at 0x1ad992af390>"
      ]
     },
     "execution_count": 68,
     "metadata": {},
     "output_type": "execute_result"
    },
    {
     "data": {
      "image/png": "[encoded data removed]",
      "text/plain": [
       "<Figure size 640x480 with 15 Axes>"
      ]
     },
     "metadata": {},
     "output_type": "display_data"
    }
   ],
   "source": [
    "fig,axes = plt.subplots(n_patterns)\n",
    "for ax,pattern in zip(axes,data):\n",
    "    im = ax.imshow(pattern)\n",
    "fig.subplots_adjust(right=0.8)\n",
    "cbar_ax = fig.add_axes([0.6, 0.15, 0.05, 0.7])\n",
    "fig.colorbar(im, cax=cbar_ax)"
   ]
  },
  {
   "cell_type": "code",
   "execution_count": 6,
   "id": "276a4445",
   "metadata": {},
   "outputs": [],
   "source": [
    "def split_visible(t)->torch.Tensor:\n",
    "    return torch.split(t,2)"
   ]
  },
  {
   "cell_type": "code",
   "execution_count": 18,
   "id": "3e6685ba",
   "metadata": {},
   "outputs": [],
   "source": [
    "y = EncoderDataset(4,4)\n",
    "data = y.data[:]\n",
    "n_patterns = data.shape[0]\n",
    "data = data.reshape((n_patterns,2,-1))"
   ]
  },
  {
   "cell_type": "code",
   "execution_count": 19,
   "id": "75f6e4f7",
   "metadata": {},
   "outputs": [
    {
     "data": {
      "image/png": "[encoded data removed]",
      "text/plain": [
       "<Figure size 640x480 with 4 Axes>"
      ]
     },
     "metadata": {},
     "output_type": "display_data"
    }
   ],
   "source": [
    "fig,axes = plt.subplots(n_patterns)\n",
    "for ax,pattern in zip(axes,data):\n",
    "    ax.imshow(pattern)"
   ]
  },
  {
   "cell_type": "code",
   "execution_count": null,
   "id": "3ad05f4f",
   "metadata": {},
   "outputs": [],
   "source": []
  }
 ],
 "metadata": {
  "kernelspec": {
   "display_name": "boltz",
   "language": "python",
   "name": "python3"
  },
  "language_info": {
   "codemirror_mode": {
    "name": "ipython",
    "version": 3
   },
   "file_extension": ".py",
   "mimetype": "text/x-python",
   "name": "python",
   "nbconvert_exporter": "python",
   "pygments_lexer": "ipython3",
   "version": "3.13.2"
  }
 },
 "nbformat": 4,
 "nbformat_minor": 5
}
