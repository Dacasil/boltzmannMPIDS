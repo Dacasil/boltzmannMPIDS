{
 "cells": [
  {
   "cell_type": "code",
   "execution_count": 2,
   "metadata": {},
   "outputs": [
    {
     "name": "stdout",
     "output_type": "stream",
     "text": [
      "The autoreload extension is already loaded. To reload it, use:\n",
      "  %reload_ext autoreload\n"
     ]
    }
   ],
   "source": [
    "import torch\n",
    "import torch.nn as nn\n",
    "import torch.optim as optim\n",
    "import numpy as np\n",
    "import matplotlib.pyplot as plt\n",
    "import sys\n",
    "import os\n",
    "sys.path.append(os.path.abspath(os.path.join(os.path.abspath(''), \"..\")))\n",
    "from example_package import model, training, datasets, metrics\n",
    "from tqdm import tqdm\n",
    "from scipy.stats import bootstrap\n",
    "%load_ext autoreload\n",
    "%autoreload 2"
   ]
  },
  {
   "cell_type": "code",
   "execution_count": 3,
   "metadata": {},
   "outputs": [],
   "source": [
    "def compute_symmetry(matrix_1, matrix_2):\n",
    "    norm_factor = np.linalg.norm(matrix_1, 'fro') * np.linalg.norm(matrix_2, 'fro')\n",
    "    if norm_factor == 0:\n",
    "        return 0\n",
    "    return np.trace(np.matmul(matrix_1.T, matrix_2)) / norm_factor\n",
    "\n",
    "def analyze_symmetry(weight_matrix, nv, nh):\n",
    "    # Define the structure of the network\n",
    "    nv1 = nv//2 \n",
    "    nv2 = nv//2 \n",
    "    nh = 2\n",
    "    \n",
    "    # Extract submatrices\n",
    "    V1 = weight_matrix[:nv1, :nv1]\n",
    "    V2 = weight_matrix[nv1:nv1+nv2, nv1:nv1+nv2]\n",
    "    V1_H = weight_matrix[:nv1, nv1+nv2:nv1+nv2+nh]\n",
    "    V2_H = weight_matrix[nv1:nv1+nv2, nv1+nv2:nv1+nv2+nh]\n",
    "    H_V1 = weight_matrix[nv1+nv2:nv1+nv2+nh, :nv1]\n",
    "    H_V2 = weight_matrix[nv1+nv2:nv1+nv2+nh, nv1:nv1+nv2]\n",
    "    \n",
    "    symmetry_V1_V2 = compute_symmetry(V1, V2)\n",
    "    symmetry_V1_H_V2_H = compute_symmetry(V1_H, V2_H)\n",
    "    symmetry_H_V1_H_V2 = compute_symmetry(H_V1, H_V2)\n",
    "    \n",
    "    return symmetry_V1_V2, symmetry_V1_H_V2_H, symmetry_H_V1_H_V2\n",
    "\n",
    "def TrainBatch(model, data, epochs, sym_epochs, n_visible, n_hidden, learningRate, noise_levels, steps_statistics,\n",
    "               annealing_scheme:float|torch.Tensor,n_steps=None):\n",
    "        \"\"\"\n",
    "        annealing_scheme: temperature, or annealing scheme\n",
    "        n_steps: number of steps to equilibrium, alternative to specifying a scheme \n",
    "        \"\"\"\n",
    "        optimizer = optim.SGD(model.parameters(), lr=learningRate)\n",
    "\n",
    "        symmetry_V1_V2_array = []\n",
    "        symmetry_V1_H_V2_H_array = []\n",
    "        symmetry_H_V1_H_V2_array = []\n",
    "\n",
    "\n",
    "        for iep in tqdm(range(epochs+1)):\n",
    "            model.training_step(optimizer,data,noise_levels,steps_statistics,annealing_scheme,n_steps)\n",
    "\n",
    "            if iep in sym_epochs:\n",
    "                weightmatrix = model.w.detach().cpu().numpy()\n",
    "                symmetry_V1_V2, symmetry_V1_H_V2_H, symmetry_H_V1_H_V2 = analyze_symmetry(weightmatrix, n_visible, n_hidden)\n",
    "\n",
    "                symmetry_V1_V2_array.append(symmetry_V1_V2)\n",
    "                symmetry_V1_H_V2_H_array.append(symmetry_V1_H_V2_H)\n",
    "                symmetry_H_V1_H_V2_array.append(symmetry_H_V1_H_V2)\n",
    "\n",
    "        return symmetry_V1_V2_array, symmetry_V1_H_V2_H_array, symmetry_H_V1_H_V2_array\n",
    "\n",
    "def create_dataset(n_visible):\n",
    "    id_mat = np.identity(n_visible)\n",
    "    mat = np.concatenate((id_mat, id_mat), axis=1)\n",
    "    dataset = torch.tensor(mat, dtype=torch.float32)\n",
    "    return dataset"
   ]
  },
  {
   "cell_type": "code",
   "execution_count": 4,
   "metadata": {},
   "outputs": [
    {
     "name": "stderr",
     "output_type": "stream",
     "text": [
      "100%|██████████| 1001/1001 [05:14<00:00,  3.18it/s]\n"
     ]
    }
   ],
   "source": [
    "n_visible = 4\n",
    "n_hidden = 2\n",
    "bias = True\n",
    "dataset = create_dataset(n_visible)\n",
    "epochs_to_measure = np.round(np.logspace(0, 3, 10))\n",
    "\n",
    "#noise_levels = [0.05,0.15]\n",
    "epochs = 1000\n",
    "learning_rate = 2\n",
    "noise_levels = [0.05,0.15] # [p_flip_to_zero,p_flip_to_one]\n",
    "annealing_scheme = torch.Tensor([20,20,15,15,12,12,10,10,10,10])\n",
    "steps_statistics = 10\n",
    "n_steps = None\n",
    "# Make an object from the model and train it\n",
    "model = model.BoltzmannMachine(2*n_visible, n_hidden, None, bias)\n",
    "# Train the model and capture the symmetry values\n",
    "symmetry_V1_V2, symmetry_V1_H_V2_H, symmetry_H_V1_H_V2 = TrainBatch(\n",
    "    model, dataset, epochs, epochs_to_measure, 2*n_visible, n_hidden, learning_rate, noise_levels, steps_statistics, annealing_scheme=annealing_scheme, n_steps=n_steps)"
   ]
  },
  {
   "cell_type": "code",
   "execution_count": null,
   "metadata": {},
   "outputs": [],
   "source": [
    "# Do statistics"
   ]
  },
  {
   "cell_type": "code",
   "execution_count": null,
   "metadata": {},
   "outputs": [],
   "source": [
    "### Plot The resultnwithout the confidence intervalls ###\n",
    "\n",
    "import matplotlib.pyplot as plt\n",
    "import numpy as np\n",
    "\n",
    "# Create a single figure with two subplots, adjusting figure size\n",
    "fig, axes = plt.subplots(2, 1, sharex=True, figsize=(8, 6))  # Two subplots, increased size\n",
    "fig.suptitle(\"Similarity analysis over Epochs with 2 hidden units\", fontsize=18, fontweight='bold')\n",
    "\n",
    "# Define larger font sizes for better readability\n",
    "label_fontsize = 16\n",
    "title_fontsize = 16\n",
    "tick_fontsize = 12\n",
    "legend_fontsize = 12\n",
    "\n",
    "epochs_array = np.arange(epochs) + 1e-6  # Add small constant to avoid log(0)\n",
    "\n",
    "# First plot\n",
    "axes[0].plot(epochs_array, symmetry_V1_V2, color='blue', linewidth=2)\n",
    "axes[0].set_title(\"Similarity between recurrent connections\", fontsize=title_fontsize)\n",
    "axes[0].set_xscale('symlog')\n",
    "\n",
    "# Second plot (Now the bottom plot - This gets the x-axis label and ticks)\n",
    "axes[1].plot(epochs_array, symmetry_V1_H_V2_H, color='green', linewidth=2)\n",
    "axes[1].set_ylabel(\"Cosine similarity\", fontsize=label_fontsize)\n",
    "axes[1].set_title(\"Similarity between encodings\", fontsize=title_fontsize)\n",
    "axes[1].set_xscale('symlog')\n",
    "axes[1].set_xlabel(\"Epochs\", fontsize=label_fontsize)  # Add x-axis label to the second plot\n",
    "\n",
    "# Set fixed x-axis ticks at 1, 10, and 100\n",
    "fixed_ticks = [1, 10, 100]\n",
    "axes[1].set_xticks(fixed_ticks)\n",
    "axes[1].set_xticklabels([str(tick) for tick in fixed_ticks])  # Ensure labels are strings\n",
    "\n",
    "# Remove grid and increase tick font size\n",
    "for ax in axes:\n",
    "    ax.tick_params(axis='both', labelsize=tick_fontsize)\n",
    "    ax.grid(False)\n",
    "\n",
    "# Adjust layout to fit title\n",
    "plt.tight_layout(rect=[0, 0, 1, 0.96])\n",
    "plt.savefig(\"similarity_analysis_new.png\", bbox_inches=\"tight\")\n",
    "plt.show()"
   ]
  },
  {
   "cell_type": "code",
   "execution_count": 6,
   "metadata": {},
   "outputs": [
    {
     "data": {
      "image/png": "[encoded data removed]",
      "text/plain": [
       "<Figure size 800x600 with 2 Axes>"
      ]
     },
     "metadata": {},
     "output_type": "display_data"
    }
   ],
   "source": [
    "# Function that plots encodings\n",
    "def plot_encodings(n_visible, n_hidden, bias=False):\n",
    "    # Assuming y is obtained from some model\n",
    "    y = model.w.detach().numpy()\n",
    "    y_discrete = np.sign(y)\n",
    "    final_index = -1 if bias else len(y_discrete)\n",
    "    \n",
    "    # Exclude the last row\n",
    "    encoding_v1 = y_discrete[2*n_visible:final_index-1, :n_visible]  # Exclude last row\n",
    "    encoding_v2 = y_discrete[2*n_visible:final_index-1, n_visible:2*n_visible]  # Exclude last row\n",
    "\n",
    "    # Create subplots\n",
    "    fig, axes = plt.subplots(2, 1, figsize=(8, 6))\n",
    "\n",
    "    # Plot Encoding V1\n",
    "    im1 = axes[0].imshow(encoding_v1, cmap='magma', vmin=-1, vmax=1)\n",
    "    axes[0].set_title('Encoding V1')\n",
    "    axes[0].set_xticks(np.arange(n_visible))\n",
    "    axes[0].set_xticklabels([f'V1_{i+1}' for i in range(n_visible)])\n",
    "    axes[0].set_yticks(np.arange(encoding_v1.shape[0]))  # Adjust y-ticks for remaining rows\n",
    "    axes[0].set_yticklabels([f'Hidden {i+1}' for i in range(encoding_v1.shape[0])])\n",
    "\n",
    "    # Plot Encoding V2\n",
    "    im2 = axes[1].imshow(encoding_v2, cmap='magma', vmin=-1, vmax=1)\n",
    "    axes[1].set_title('Encoding V2')\n",
    "    axes[1].set_xticks(np.arange(n_visible))\n",
    "    axes[1].set_xticklabels([f'V2_{i+1}' for i in range(n_visible)])\n",
    "    axes[1].set_yticks(np.arange(encoding_v2.shape[0]))  # Adjust y-ticks for remaining rows\n",
    "    axes[1].set_yticklabels([f'Hidden {i+1}' for i in range(encoding_v2.shape[0])])\n",
    "\n",
    "    plt.tight_layout()\n",
    "    plt.show()\n",
    "\n",
    "# Example usage:\n",
    "n_visible = 4\n",
    "n_hidden = 2\n",
    "bias = False\n",
    "\n",
    "plot_encodings(n_visible, n_hidden, bias)"
   ]
  }
 ],
 "metadata": {
  "kernelspec": {
   "display_name": "base",
   "language": "python",
   "name": "python3"
  },
  "language_info": {
   "codemirror_mode": {
    "name": "ipython",
    "version": 3
   },
   "file_extension": ".py",
   "mimetype": "text/x-python",
   "name": "python",
   "nbconvert_exporter": "python",
   "pygments_lexer": "ipython3",
   "version": "3.10.14"
  }
 },
 "nbformat": 4,
 "nbformat_minor": 2
}
